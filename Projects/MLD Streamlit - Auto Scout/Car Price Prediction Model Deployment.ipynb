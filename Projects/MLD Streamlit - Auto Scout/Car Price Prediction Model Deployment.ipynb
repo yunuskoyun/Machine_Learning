{
 "cells": [
  {
   "cell_type": "markdown",
   "id": "97d24c17",
   "metadata": {},
   "source": [
    "# WELCOME!"
   ]
  },
  {
   "cell_type": "markdown",
   "id": "3d263ef0",
   "metadata": {},
   "source": [
    "Welcome to \"***Car Price Prediction Project***\". This is the first medium project of ***Machine Learning*** course. In this project you will have the opportunity to apply many algorithms commonly used for regression problems.\n",
    "\n",
    "Also, you will apply various processes such as pre-processing, ***train-test spilit*** and ***cross validation*** that you will use in algorithm modeling and prediction processes in Python with ***scikit-learn***. "
   ]
  },
  {
   "cell_type": "markdown",
   "id": "5516c97c",
   "metadata": {},
   "source": [
    "**Auto Scout** data which using for this project, scraped from the on-line car trading company(https://www.autoscout24.com)in 2019, contains many features of 9 different car models. In this project, you will use the data set which is already preprocessed and prepared for algorithms ."
   ]
  },
  {
   "cell_type": "markdown",
   "id": "64ca3497",
   "metadata": {},
   "source": [
    "In this Senario, you will estimate the prices of cars using regression algorithms.\n",
    "\n",
    "EDA Processing and Features Importance methods were applied before moving to modelling. ***Lasso Regression, AdaBoost, GradientBoost and XG Boost*** models used for this notebook to develop the project."
   ]
  },
  {
   "cell_type": "code",
   "execution_count": 3,
   "id": "240640b3",
   "metadata": {},
   "outputs": [],
   "source": [
    "import pandas as pd      \n",
    "import numpy as np \n",
    "import matplotlib.pyplot as plt\n",
    "import seaborn as sns\n",
    "from sklearn.preprocessing import StandardScaler, MinMaxScaler, RobustScaler\n",
    "from sklearn.metrics import mean_squared_error, mean_absolute_error, r2_score\n",
    "from sklearn.model_selection import train_test_split\n",
    "from sklearn.compose import make_column_transformer\n",
    "from sklearn.preprocessing import OneHotEncoder, OrdinalEncoder\n",
    "from sklearn.model_selection import cross_validate\n",
    "import warnings\n",
    "warnings.filterwarnings('ignore')\n",
    "plt.rcParams[\"figure.figsize\"] = (7,4)\n",
    "pd.set_option('display.max_columns', 500)\n",
    "pd.set_option('display.max_rows', 500)"
   ]
  },
  {
   "cell_type": "code",
   "execution_count": 4,
   "id": "567bf850",
   "metadata": {},
   "outputs": [],
   "source": [
    "df = pd.read_csv(\"df_with_feature_imp.csv\")"
   ]
  },
  {
   "cell_type": "code",
   "execution_count": 5,
   "id": "91e9c00f",
   "metadata": {},
   "outputs": [
    {
     "data": {
      "text/html": [
       "<div>\n",
       "<style scoped>\n",
       "    .dataframe tbody tr th:only-of-type {\n",
       "        vertical-align: middle;\n",
       "    }\n",
       "\n",
       "    .dataframe tbody tr th {\n",
       "        vertical-align: top;\n",
       "    }\n",
       "\n",
       "    .dataframe thead th {\n",
       "        text-align: right;\n",
       "    }\n",
       "</style>\n",
       "<table border=\"1\" class=\"dataframe\">\n",
       "  <thead>\n",
       "    <tr style=\"text-align: right;\">\n",
       "      <th></th>\n",
       "      <th>make_model</th>\n",
       "      <th>hp_kW</th>\n",
       "      <th>km</th>\n",
       "      <th>age</th>\n",
       "      <th>Gearing_Type</th>\n",
       "      <th>Gears</th>\n",
       "      <th>Type</th>\n",
       "      <th>Safety_Security_Package</th>\n",
       "      <th>price</th>\n",
       "    </tr>\n",
       "  </thead>\n",
       "  <tbody>\n",
       "    <tr>\n",
       "      <th>0</th>\n",
       "      <td>Audi A1</td>\n",
       "      <td>66.0</td>\n",
       "      <td>56013.0</td>\n",
       "      <td>3.0</td>\n",
       "      <td>Automatic</td>\n",
       "      <td>7.0</td>\n",
       "      <td>Used</td>\n",
       "      <td>Safety Premium Package</td>\n",
       "      <td>15770</td>\n",
       "    </tr>\n",
       "    <tr>\n",
       "      <th>1</th>\n",
       "      <td>Audi A1</td>\n",
       "      <td>141.0</td>\n",
       "      <td>80000.0</td>\n",
       "      <td>2.0</td>\n",
       "      <td>Automatic</td>\n",
       "      <td>7.0</td>\n",
       "      <td>Used</td>\n",
       "      <td>Safety Premium Package</td>\n",
       "      <td>14500</td>\n",
       "    </tr>\n",
       "    <tr>\n",
       "      <th>2</th>\n",
       "      <td>Audi A1</td>\n",
       "      <td>85.0</td>\n",
       "      <td>83450.0</td>\n",
       "      <td>3.0</td>\n",
       "      <td>Automatic</td>\n",
       "      <td>7.0</td>\n",
       "      <td>Used</td>\n",
       "      <td>Safety Premium Package</td>\n",
       "      <td>14640</td>\n",
       "    </tr>\n",
       "    <tr>\n",
       "      <th>3</th>\n",
       "      <td>Audi A1</td>\n",
       "      <td>66.0</td>\n",
       "      <td>73000.0</td>\n",
       "      <td>3.0</td>\n",
       "      <td>Automatic</td>\n",
       "      <td>6.0</td>\n",
       "      <td>Used</td>\n",
       "      <td>Safety Premium Package</td>\n",
       "      <td>14500</td>\n",
       "    </tr>\n",
       "    <tr>\n",
       "      <th>4</th>\n",
       "      <td>Audi A1</td>\n",
       "      <td>66.0</td>\n",
       "      <td>16200.0</td>\n",
       "      <td>3.0</td>\n",
       "      <td>Automatic</td>\n",
       "      <td>7.0</td>\n",
       "      <td>Used</td>\n",
       "      <td>Safety Premium Package</td>\n",
       "      <td>16790</td>\n",
       "    </tr>\n",
       "  </tbody>\n",
       "</table>\n",
       "</div>"
      ],
      "text/plain": [
       "  make_model  hp_kW       km  age Gearing_Type  Gears  Type  \\\n",
       "0    Audi A1   66.0  56013.0  3.0    Automatic    7.0  Used   \n",
       "1    Audi A1  141.0  80000.0  2.0    Automatic    7.0  Used   \n",
       "2    Audi A1   85.0  83450.0  3.0    Automatic    7.0  Used   \n",
       "3    Audi A1   66.0  73000.0  3.0    Automatic    6.0  Used   \n",
       "4    Audi A1   66.0  16200.0  3.0    Automatic    7.0  Used   \n",
       "\n",
       "  Safety_Security_Package  price  \n",
       "0  Safety Premium Package  15770  \n",
       "1  Safety Premium Package  14500  \n",
       "2  Safety Premium Package  14640  \n",
       "3  Safety Premium Package  14500  \n",
       "4  Safety Premium Package  16790  "
      ]
     },
     "execution_count": 5,
     "metadata": {},
     "output_type": "execute_result"
    }
   ],
   "source": [
    "df.head()"
   ]
  },
  {
   "cell_type": "code",
   "execution_count": 6,
   "id": "1cf0b452",
   "metadata": {},
   "outputs": [
    {
     "name": "stdout",
     "output_type": "stream",
     "text": [
      "<class 'pandas.core.frame.DataFrame'>\n",
      "RangeIndex: 15493 entries, 0 to 15492\n",
      "Data columns (total 9 columns):\n",
      " #   Column                   Non-Null Count  Dtype  \n",
      "---  ------                   --------------  -----  \n",
      " 0   make_model               15493 non-null  object \n",
      " 1   hp_kW                    15493 non-null  float64\n",
      " 2   km                       15493 non-null  float64\n",
      " 3   age                      15493 non-null  float64\n",
      " 4   Gearing_Type             15493 non-null  object \n",
      " 5   Gears                    15493 non-null  float64\n",
      " 6   Type                     15493 non-null  object \n",
      " 7   Safety_Security_Package  15493 non-null  object \n",
      " 8   price                    15493 non-null  int64  \n",
      "dtypes: float64(4), int64(1), object(4)\n",
      "memory usage: 1.1+ MB\n"
     ]
    }
   ],
   "source": [
    "df.info()"
   ]
  },
  {
   "cell_type": "code",
   "execution_count": 7,
   "id": "44902ff6",
   "metadata": {},
   "outputs": [
    {
     "data": {
      "text/html": [
       "<div>\n",
       "<style scoped>\n",
       "    .dataframe tbody tr th:only-of-type {\n",
       "        vertical-align: middle;\n",
       "    }\n",
       "\n",
       "    .dataframe tbody tr th {\n",
       "        vertical-align: top;\n",
       "    }\n",
       "\n",
       "    .dataframe thead th {\n",
       "        text-align: right;\n",
       "    }\n",
       "</style>\n",
       "<table border=\"1\" class=\"dataframe\">\n",
       "  <thead>\n",
       "    <tr style=\"text-align: right;\">\n",
       "      <th></th>\n",
       "      <th>hp_kW</th>\n",
       "      <th>km</th>\n",
       "      <th>age</th>\n",
       "      <th>Gears</th>\n",
       "      <th>price</th>\n",
       "    </tr>\n",
       "  </thead>\n",
       "  <tbody>\n",
       "    <tr>\n",
       "      <th>count</th>\n",
       "      <td>15493.000000</td>\n",
       "      <td>15493.000000</td>\n",
       "      <td>15493.000000</td>\n",
       "      <td>15493.000000</td>\n",
       "      <td>15493.000000</td>\n",
       "    </tr>\n",
       "    <tr>\n",
       "      <th>mean</th>\n",
       "      <td>87.037953</td>\n",
       "      <td>32814.310322</td>\n",
       "      <td>1.417672</td>\n",
       "      <td>5.927580</td>\n",
       "      <td>17578.474472</td>\n",
       "    </tr>\n",
       "    <tr>\n",
       "      <th>std</th>\n",
       "      <td>24.569678</td>\n",
       "      <td>37178.667552</td>\n",
       "      <td>1.118878</td>\n",
       "      <td>0.704855</td>\n",
       "      <td>6764.037547</td>\n",
       "    </tr>\n",
       "    <tr>\n",
       "      <th>min</th>\n",
       "      <td>40.000000</td>\n",
       "      <td>0.000000</td>\n",
       "      <td>0.000000</td>\n",
       "      <td>5.000000</td>\n",
       "      <td>4950.000000</td>\n",
       "    </tr>\n",
       "    <tr>\n",
       "      <th>25%</th>\n",
       "      <td>66.000000</td>\n",
       "      <td>3000.000000</td>\n",
       "      <td>0.000000</td>\n",
       "      <td>5.000000</td>\n",
       "      <td>12600.000000</td>\n",
       "    </tr>\n",
       "    <tr>\n",
       "      <th>50%</th>\n",
       "      <td>85.000000</td>\n",
       "      <td>21215.000000</td>\n",
       "      <td>1.000000</td>\n",
       "      <td>6.000000</td>\n",
       "      <td>16690.000000</td>\n",
       "    </tr>\n",
       "    <tr>\n",
       "      <th>75%</th>\n",
       "      <td>100.000000</td>\n",
       "      <td>48000.000000</td>\n",
       "      <td>2.000000</td>\n",
       "      <td>6.000000</td>\n",
       "      <td>21500.000000</td>\n",
       "    </tr>\n",
       "    <tr>\n",
       "      <th>max</th>\n",
       "      <td>239.000000</td>\n",
       "      <td>317000.000000</td>\n",
       "      <td>3.000000</td>\n",
       "      <td>8.000000</td>\n",
       "      <td>50950.000000</td>\n",
       "    </tr>\n",
       "  </tbody>\n",
       "</table>\n",
       "</div>"
      ],
      "text/plain": [
       "              hp_kW             km           age         Gears         price\n",
       "count  15493.000000   15493.000000  15493.000000  15493.000000  15493.000000\n",
       "mean      87.037953   32814.310322      1.417672      5.927580  17578.474472\n",
       "std       24.569678   37178.667552      1.118878      0.704855   6764.037547\n",
       "min       40.000000       0.000000      0.000000      5.000000   4950.000000\n",
       "25%       66.000000    3000.000000      0.000000      5.000000  12600.000000\n",
       "50%       85.000000   21215.000000      1.000000      6.000000  16690.000000\n",
       "75%      100.000000   48000.000000      2.000000      6.000000  21500.000000\n",
       "max      239.000000  317000.000000      3.000000      8.000000  50950.000000"
      ]
     },
     "execution_count": 7,
     "metadata": {},
     "output_type": "execute_result"
    }
   ],
   "source": [
    "df.describe()"
   ]
  },
  {
   "cell_type": "markdown",
   "id": "6fdba8b8",
   "metadata": {},
   "source": [
    "# Data Preprocessing"
   ]
  },
  {
   "cell_type": "code",
   "execution_count": 8,
   "id": "3b101b16",
   "metadata": {},
   "outputs": [],
   "source": [
    "def train_val(model, X_train, y_train, X_test, y_test):\n",
    "    \n",
    "    y_pred = model.predict(X_test)\n",
    "    y_train_pred = model.predict(X_train)\n",
    "    \n",
    "    scores = {\"train\": {\"R2\" : r2_score(y_train, y_train_pred),\n",
    "    \"mae\" : mean_absolute_error(y_train, y_train_pred),\n",
    "    \"mse\" : mean_squared_error(y_train, y_train_pred),                          \n",
    "    \"rmse\" : np.sqrt(mean_squared_error(y_train, y_train_pred))},\n",
    "    \n",
    "    \"test\": {\"R2\" : r2_score(y_test, y_pred),\n",
    "    \"mae\" : mean_absolute_error(y_test, y_pred),\n",
    "    \"mse\" : mean_squared_error(y_test, y_pred),\n",
    "    \"rmse\" : np.sqrt(mean_squared_error(y_test, y_pred))}}\n",
    "    \n",
    "    return pd.DataFrame(scores)\n",
    "\n",
    "# train and test metrics for comparing in the end of modelling\n",
    "pd.options.display.float_format = '{:.3f}'.format"
   ]
  },
  {
   "cell_type": "markdown",
   "id": "f219f428",
   "metadata": {},
   "source": [
    "### Lasso Regression"
   ]
  },
  {
   "cell_type": "code",
   "execution_count": 9,
   "id": "63b374bc",
   "metadata": {},
   "outputs": [],
   "source": [
    "from sklearn.linear_model import Lasso\n",
    "from sklearn.pipeline import Pipeline"
   ]
  },
  {
   "cell_type": "code",
   "execution_count": 10,
   "id": "c0726d8c",
   "metadata": {},
   "outputs": [],
   "source": [
    "X = df.drop(columns = [\"price\"])\n",
    "y = df.price"
   ]
  },
  {
   "cell_type": "code",
   "execution_count": 11,
   "id": "c15e2634",
   "metadata": {},
   "outputs": [],
   "source": [
    "X_train, X_test, y_train, y_test = train_test_split(X, y, test_size=0.2, random_state=101)"
   ]
  },
  {
   "cell_type": "code",
   "execution_count": 12,
   "id": "6af2dfe2",
   "metadata": {},
   "outputs": [
    {
     "data": {
      "text/html": [
       "<div>\n",
       "<style scoped>\n",
       "    .dataframe tbody tr th:only-of-type {\n",
       "        vertical-align: middle;\n",
       "    }\n",
       "\n",
       "    .dataframe tbody tr th {\n",
       "        vertical-align: top;\n",
       "    }\n",
       "\n",
       "    .dataframe thead th {\n",
       "        text-align: right;\n",
       "    }\n",
       "</style>\n",
       "<table border=\"1\" class=\"dataframe\">\n",
       "  <thead>\n",
       "    <tr style=\"text-align: right;\">\n",
       "      <th></th>\n",
       "      <th>make_model</th>\n",
       "      <th>hp_kW</th>\n",
       "      <th>km</th>\n",
       "      <th>age</th>\n",
       "      <th>Gearing_Type</th>\n",
       "      <th>Gears</th>\n",
       "      <th>Type</th>\n",
       "      <th>Safety_Security_Package</th>\n",
       "    </tr>\n",
       "  </thead>\n",
       "  <tbody>\n",
       "    <tr>\n",
       "      <th>5818</th>\n",
       "      <td>Opel Astra</td>\n",
       "      <td>100.000</td>\n",
       "      <td>66535.000</td>\n",
       "      <td>2.000</td>\n",
       "      <td>Automatic</td>\n",
       "      <td>6.000</td>\n",
       "      <td>Used</td>\n",
       "      <td>Safety Premium Package</td>\n",
       "    </tr>\n",
       "    <tr>\n",
       "      <th>12640</th>\n",
       "      <td>Opel Insignia</td>\n",
       "      <td>121.000</td>\n",
       "      <td>8650.000</td>\n",
       "      <td>0.000</td>\n",
       "      <td>Manual</td>\n",
       "      <td>6.000</td>\n",
       "      <td>Used</td>\n",
       "      <td>Safety Premium Package</td>\n",
       "    </tr>\n",
       "    <tr>\n",
       "      <th>4447</th>\n",
       "      <td>Audi A3</td>\n",
       "      <td>85.000</td>\n",
       "      <td>3000.000</td>\n",
       "      <td>1.000</td>\n",
       "      <td>Automatic</td>\n",
       "      <td>7.000</td>\n",
       "      <td>Used</td>\n",
       "      <td>Safety Premium Package</td>\n",
       "    </tr>\n",
       "    <tr>\n",
       "      <th>6061</th>\n",
       "      <td>Opel Astra</td>\n",
       "      <td>103.000</td>\n",
       "      <td>89738.000</td>\n",
       "      <td>3.000</td>\n",
       "      <td>Manual</td>\n",
       "      <td>6.000</td>\n",
       "      <td>Used</td>\n",
       "      <td>Safety Premium Package</td>\n",
       "    </tr>\n",
       "    <tr>\n",
       "      <th>9991</th>\n",
       "      <td>Opel Corsa</td>\n",
       "      <td>51.000</td>\n",
       "      <td>50.000</td>\n",
       "      <td>0.000</td>\n",
       "      <td>Manual</td>\n",
       "      <td>5.000</td>\n",
       "      <td>Pre-registered</td>\n",
       "      <td>Safety Premium Package</td>\n",
       "    </tr>\n",
       "  </tbody>\n",
       "</table>\n",
       "</div>"
      ],
      "text/plain": [
       "          make_model   hp_kW        km   age Gearing_Type  Gears  \\\n",
       "5818      Opel Astra 100.000 66535.000 2.000    Automatic  6.000   \n",
       "12640  Opel Insignia 121.000  8650.000 0.000       Manual  6.000   \n",
       "4447         Audi A3  85.000  3000.000 1.000    Automatic  7.000   \n",
       "6061      Opel Astra 103.000 89738.000 3.000       Manual  6.000   \n",
       "9991      Opel Corsa  51.000    50.000 0.000       Manual  5.000   \n",
       "\n",
       "                 Type Safety_Security_Package  \n",
       "5818             Used  Safety Premium Package  \n",
       "12640            Used  Safety Premium Package  \n",
       "4447             Used  Safety Premium Package  \n",
       "6061             Used  Safety Premium Package  \n",
       "9991   Pre-registered  Safety Premium Package  "
      ]
     },
     "execution_count": 12,
     "metadata": {},
     "output_type": "execute_result"
    }
   ],
   "source": [
    "X_train.head()"
   ]
  },
  {
   "cell_type": "code",
   "execution_count": 13,
   "id": "8ea3c7dc",
   "metadata": {},
   "outputs": [],
   "source": [
    "cat_onehot = ['make_model', 'Type', 'Gearing_Type']\n",
    "cat_ordinal = ['Safety_Security_Package']\n",
    "\n",
    "Safety_Security_Package = ['Safety Standard Package', 'Safety Premium Package', 'Safety Premium Plus Package']\n",
    "    \n",
    "categories = [Safety_Security_Package]\n",
    "\n",
    "column_trans = make_column_transformer((OneHotEncoder(handle_unknown=\"ignore\", sparse=False), cat_onehot), \n",
    "                                       (OrdinalEncoder(categories=categories), cat_ordinal),\n",
    "                                       remainder='passthrough')"
   ]
  },
  {
   "cell_type": "code",
   "execution_count": 14,
   "id": "353deeeb",
   "metadata": {},
   "outputs": [
    {
     "data": {
      "text/html": [
       "<div>\n",
       "<style scoped>\n",
       "    .dataframe tbody tr th:only-of-type {\n",
       "        vertical-align: middle;\n",
       "    }\n",
       "\n",
       "    .dataframe tbody tr th {\n",
       "        vertical-align: top;\n",
       "    }\n",
       "\n",
       "    .dataframe thead th {\n",
       "        text-align: right;\n",
       "    }\n",
       "</style>\n",
       "<table border=\"1\" class=\"dataframe\">\n",
       "  <thead>\n",
       "    <tr style=\"text-align: right;\">\n",
       "      <th></th>\n",
       "      <th>train</th>\n",
       "      <th>test</th>\n",
       "    </tr>\n",
       "  </thead>\n",
       "  <tbody>\n",
       "    <tr>\n",
       "      <th>R2</th>\n",
       "      <td>0.882</td>\n",
       "      <td>0.879</td>\n",
       "    </tr>\n",
       "    <tr>\n",
       "      <th>mae</th>\n",
       "      <td>1656.817</td>\n",
       "      <td>1619.918</td>\n",
       "    </tr>\n",
       "    <tr>\n",
       "      <th>mse</th>\n",
       "      <td>5470129.665</td>\n",
       "      <td>5304445.257</td>\n",
       "    </tr>\n",
       "    <tr>\n",
       "      <th>rmse</th>\n",
       "      <td>2338.831</td>\n",
       "      <td>2303.138</td>\n",
       "    </tr>\n",
       "  </tbody>\n",
       "</table>\n",
       "</div>"
      ],
      "text/plain": [
       "           train        test\n",
       "R2         0.882       0.879\n",
       "mae     1656.817    1619.918\n",
       "mse  5470129.665 5304445.257\n",
       "rmse    2338.831    2303.138"
      ]
     },
     "execution_count": 14,
     "metadata": {},
     "output_type": "execute_result"
    }
   ],
   "source": [
    "operations = [(\"OneHot_Ordinal_Encoder\", column_trans), (\"scaler\", MinMaxScaler()), (\"Lasso\", Lasso(alpha=1.02))]\n",
    "lasso_model = Pipeline(steps=operations)\n",
    "\n",
    "lasso_model.fit(X_train, y_train)\n",
    "\n",
    "train_val(lasso_model, X_train, y_train, X_test, y_test)"
   ]
  },
  {
   "cell_type": "markdown",
   "id": "c354142f",
   "metadata": {},
   "source": [
    "#### Cross Validate"
   ]
  },
  {
   "cell_type": "code",
   "execution_count": 15,
   "id": "0c643ae4",
   "metadata": {},
   "outputs": [],
   "source": [
    "operations = [(\"OneHot_Ordinal_Encoder\", column_trans), (\"scaler\", MinMaxScaler()), (\"Lasso\", Lasso(alpha=1.02))]\n",
    "model = Pipeline(steps=operations)\n",
    "\n",
    "scores = cross_validate(model, X_train, y_train,\n",
    "                        scoring=['r2', 'neg_mean_absolute_error','neg_mean_squared_error','neg_root_mean_squared_error'],\n",
    "                        cv=10, return_train_score=True)"
   ]
  },
  {
   "cell_type": "code",
   "execution_count": 16,
   "id": "da09e114",
   "metadata": {},
   "outputs": [
    {
     "data": {
      "text/plain": [
       "test_r2                                    0.881\n",
       "train_r2                                   0.882\n",
       "test_neg_mean_absolute_error           -1659.164\n",
       "train_neg_mean_absolute_error          -1656.716\n",
       "test_neg_mean_squared_error         -5489269.264\n",
       "train_neg_mean_squared_error        -5469107.920\n",
       "test_neg_root_mean_squared_error       -2341.656\n",
       "train_neg_root_mean_squared_error      -2338.596\n",
       "dtype: float64"
      ]
     },
     "execution_count": 16,
     "metadata": {},
     "output_type": "execute_result"
    }
   ],
   "source": [
    "scores = pd.DataFrame(scores, index = range(1, 11))\n",
    "scores.iloc[:,2:].mean()"
   ]
  },
  {
   "cell_type": "code",
   "execution_count": 17,
   "id": "243591ae",
   "metadata": {},
   "outputs": [
    {
     "data": {
      "text/plain": [
       "-0.13321157986298915"
      ]
     },
     "execution_count": 17,
     "metadata": {},
     "output_type": "execute_result"
    }
   ],
   "source": [
    "scores[\"test_neg_root_mean_squared_error\"].mean()/df.price.mean()  # error ratio"
   ]
  },
  {
   "cell_type": "code",
   "execution_count": 18,
   "id": "258ba4fe",
   "metadata": {},
   "outputs": [],
   "source": [
    "y_pred = lasso_model.predict(X_test)\n",
    "lasso_R2 = r2_score(y_test, y_pred)\n",
    "lasso_mae = mean_absolute_error(y_test, y_pred)\n",
    "lasso_rmse = np.sqrt(mean_squared_error(y_test, y_pred))"
   ]
  },
  {
   "cell_type": "markdown",
   "id": "9b1f38c2",
   "metadata": {},
   "source": [
    "### AdaBoost"
   ]
  },
  {
   "cell_type": "code",
   "execution_count": 19,
   "id": "528ceb73",
   "metadata": {},
   "outputs": [],
   "source": [
    "from sklearn.ensemble import AdaBoostRegressor"
   ]
  },
  {
   "cell_type": "code",
   "execution_count": 20,
   "id": "8fbb9f62",
   "metadata": {},
   "outputs": [
    {
     "data": {
      "text/plain": [
       "Pipeline(steps=[('OneHot_Ordinal_Encoder',\n",
       "                 ColumnTransformer(remainder='passthrough',\n",
       "                                   transformers=[('onehotencoder',\n",
       "                                                  OneHotEncoder(handle_unknown='ignore',\n",
       "                                                                sparse=False),\n",
       "                                                  ['make_model', 'Type',\n",
       "                                                   'Gearing_Type']),\n",
       "                                                 ('ordinalencoder',\n",
       "                                                  OrdinalEncoder(categories=[['Safety '\n",
       "                                                                              'Standard '\n",
       "                                                                              'Package',\n",
       "                                                                              'Safety '\n",
       "                                                                              'Premium '\n",
       "                                                                              'Package',\n",
       "                                                                              'Safety '\n",
       "                                                                              'Premium '\n",
       "                                                                              'Plus '\n",
       "                                                                              'Package']]),\n",
       "                                                  ['Safety_Security_Package'])])),\n",
       "                ('Ada_model',\n",
       "                 AdaBoostRegressor(loss='square', n_estimators=150,\n",
       "                                   random_state=101))])"
      ]
     },
     "execution_count": 20,
     "metadata": {},
     "output_type": "execute_result"
    }
   ],
   "source": [
    "operations = [(\"OneHot_Ordinal_Encoder\", column_trans), (\"Ada_model\", AdaBoostRegressor(loss='square',\n",
    "                                                                                n_estimators=150, random_state=101))]\n",
    "\n",
    "pipe_ada_model = Pipeline(steps=operations)\n",
    "\n",
    "pipe_ada_model.fit(X_train, y_train)"
   ]
  },
  {
   "cell_type": "code",
   "execution_count": 21,
   "id": "97d8134b",
   "metadata": {},
   "outputs": [
    {
     "data": {
      "text/html": [
       "<div>\n",
       "<style scoped>\n",
       "    .dataframe tbody tr th:only-of-type {\n",
       "        vertical-align: middle;\n",
       "    }\n",
       "\n",
       "    .dataframe tbody tr th {\n",
       "        vertical-align: top;\n",
       "    }\n",
       "\n",
       "    .dataframe thead th {\n",
       "        text-align: right;\n",
       "    }\n",
       "</style>\n",
       "<table border=\"1\" class=\"dataframe\">\n",
       "  <thead>\n",
       "    <tr style=\"text-align: right;\">\n",
       "      <th></th>\n",
       "      <th>train</th>\n",
       "      <th>test</th>\n",
       "    </tr>\n",
       "  </thead>\n",
       "  <tbody>\n",
       "    <tr>\n",
       "      <th>R2</th>\n",
       "      <td>0.829</td>\n",
       "      <td>0.825</td>\n",
       "    </tr>\n",
       "    <tr>\n",
       "      <th>mae</th>\n",
       "      <td>2335.920</td>\n",
       "      <td>2281.533</td>\n",
       "    </tr>\n",
       "    <tr>\n",
       "      <th>mse</th>\n",
       "      <td>7928765.320</td>\n",
       "      <td>7650950.877</td>\n",
       "    </tr>\n",
       "    <tr>\n",
       "      <th>rmse</th>\n",
       "      <td>2815.806</td>\n",
       "      <td>2766.035</td>\n",
       "    </tr>\n",
       "  </tbody>\n",
       "</table>\n",
       "</div>"
      ],
      "text/plain": [
       "           train        test\n",
       "R2         0.829       0.825\n",
       "mae     2335.920    2281.533\n",
       "mse  7928765.320 7650950.877\n",
       "rmse    2815.806    2766.035"
      ]
     },
     "execution_count": 21,
     "metadata": {},
     "output_type": "execute_result"
    }
   ],
   "source": [
    "train_val(pipe_ada_model, X_train, y_train, X_test, y_test)"
   ]
  },
  {
   "cell_type": "markdown",
   "id": "a798a4bf",
   "metadata": {},
   "source": [
    "#### Cross Validate"
   ]
  },
  {
   "cell_type": "code",
   "execution_count": 22,
   "id": "7ae2c9b7",
   "metadata": {},
   "outputs": [
    {
     "data": {
      "text/plain": [
       "test_r2                                    0.810\n",
       "train_r2                                   0.811\n",
       "test_neg_mean_absolute_error           -2446.782\n",
       "train_neg_mean_absolute_error          -2437.979\n",
       "test_neg_mean_squared_error         -8796543.651\n",
       "train_neg_mean_squared_error        -8733017.020\n",
       "test_neg_root_mean_squared_error       -2964.988\n",
       "train_neg_root_mean_squared_error      -2954.786\n",
       "dtype: float64"
      ]
     },
     "execution_count": 22,
     "metadata": {},
     "output_type": "execute_result"
    }
   ],
   "source": [
    "operations = [(\"OneHot_Ordinal_Encoder\", column_trans), (\"Ada_model\", AdaBoostRegressor(random_state=101))]\n",
    "\n",
    "model = Pipeline(steps=operations)\n",
    "\n",
    "scores = cross_validate(model, X_train, y_train, scoring=['r2', \n",
    "            'neg_mean_absolute_error','neg_mean_squared_error','neg_root_mean_squared_error'], cv =10, \n",
    "                        return_train_score=True)\n",
    "pd.DataFrame(scores)\n",
    "pd.DataFrame(scores).mean()[2:]\n",
    "\n",
    "# there is no overfitting"
   ]
  },
  {
   "cell_type": "code",
   "execution_count": 23,
   "id": "7ac78f68",
   "metadata": {},
   "outputs": [
    {
     "data": {
      "text/plain": [
       "-0.16867150941399697"
      ]
     },
     "execution_count": 23,
     "metadata": {},
     "output_type": "execute_result"
    }
   ],
   "source": [
    "scores[\"test_neg_root_mean_squared_error\"].mean()/df.price.mean()  # error ratio"
   ]
  },
  {
   "cell_type": "code",
   "execution_count": 24,
   "id": "fe2a0f29",
   "metadata": {},
   "outputs": [],
   "source": [
    "y_pred = pipe_ada_model.predict(X_test)\n",
    "ada_R2 = r2_score(y_test, y_pred)\n",
    "ada_mae = mean_absolute_error(y_test, y_pred)\n",
    "ada_rmse = np.sqrt(mean_squared_error(y_test, y_pred))"
   ]
  },
  {
   "cell_type": "markdown",
   "id": "5422f42e",
   "metadata": {},
   "source": [
    "### GradientBoost"
   ]
  },
  {
   "cell_type": "code",
   "execution_count": 25,
   "id": "7f55ddfb",
   "metadata": {},
   "outputs": [],
   "source": [
    "from sklearn.ensemble import GradientBoostingRegressor"
   ]
  },
  {
   "cell_type": "code",
   "execution_count": 26,
   "id": "e8efc8b2",
   "metadata": {},
   "outputs": [
    {
     "data": {
      "text/plain": [
       "Pipeline(steps=[('OneHot_Ordinal_Encoder',\n",
       "                 ColumnTransformer(remainder='passthrough',\n",
       "                                   transformers=[('onehotencoder',\n",
       "                                                  OneHotEncoder(handle_unknown='ignore',\n",
       "                                                                sparse=False),\n",
       "                                                  ['make_model', 'Type',\n",
       "                                                   'Gearing_Type']),\n",
       "                                                 ('ordinalencoder',\n",
       "                                                  OrdinalEncoder(categories=[['Safety '\n",
       "                                                                              'Standard '\n",
       "                                                                              'Package',\n",
       "                                                                              'Safety '\n",
       "                                                                              'Premium '\n",
       "                                                                              'Package',\n",
       "                                                                              'Safety '\n",
       "                                                                              'Premium '\n",
       "                                                                              'Plus '\n",
       "                                                                              'Package']]),\n",
       "                                                  ['Safety_Security_Package'])])),\n",
       "                ('GB_model', GradientBoostingRegressor(random_state=101))])"
      ]
     },
     "execution_count": 26,
     "metadata": {},
     "output_type": "execute_result"
    }
   ],
   "source": [
    "operations = [(\"OneHot_Ordinal_Encoder\", column_trans), (\"GB_model\", GradientBoostingRegressor(random_state=101))]\n",
    "\n",
    "pipe_grad_model = Pipeline(steps=operations)\n",
    "\n",
    "pipe_grad_model.fit(X_train, y_train)"
   ]
  },
  {
   "cell_type": "code",
   "execution_count": 27,
   "id": "fe545968",
   "metadata": {},
   "outputs": [
    {
     "data": {
      "text/html": [
       "<div>\n",
       "<style scoped>\n",
       "    .dataframe tbody tr th:only-of-type {\n",
       "        vertical-align: middle;\n",
       "    }\n",
       "\n",
       "    .dataframe tbody tr th {\n",
       "        vertical-align: top;\n",
       "    }\n",
       "\n",
       "    .dataframe thead th {\n",
       "        text-align: right;\n",
       "    }\n",
       "</style>\n",
       "<table border=\"1\" class=\"dataframe\">\n",
       "  <thead>\n",
       "    <tr style=\"text-align: right;\">\n",
       "      <th></th>\n",
       "      <th>train</th>\n",
       "      <th>test</th>\n",
       "    </tr>\n",
       "  </thead>\n",
       "  <tbody>\n",
       "    <tr>\n",
       "      <th>R2</th>\n",
       "      <td>0.935</td>\n",
       "      <td>0.932</td>\n",
       "    </tr>\n",
       "    <tr>\n",
       "      <th>mae</th>\n",
       "      <td>1206.601</td>\n",
       "      <td>1206.170</td>\n",
       "    </tr>\n",
       "    <tr>\n",
       "      <th>mse</th>\n",
       "      <td>2998011.871</td>\n",
       "      <td>2960827.117</td>\n",
       "    </tr>\n",
       "    <tr>\n",
       "      <th>rmse</th>\n",
       "      <td>1731.477</td>\n",
       "      <td>1720.705</td>\n",
       "    </tr>\n",
       "  </tbody>\n",
       "</table>\n",
       "</div>"
      ],
      "text/plain": [
       "           train        test\n",
       "R2         0.935       0.932\n",
       "mae     1206.601    1206.170\n",
       "mse  2998011.871 2960827.117\n",
       "rmse    1731.477    1720.705"
      ]
     },
     "execution_count": 27,
     "metadata": {},
     "output_type": "execute_result"
    }
   ],
   "source": [
    "train_val(pipe_grad_model, X_train, y_train, X_test, y_test)"
   ]
  },
  {
   "cell_type": "markdown",
   "id": "1b4bdc24",
   "metadata": {},
   "source": [
    "#### Cross Validate"
   ]
  },
  {
   "cell_type": "code",
   "execution_count": 28,
   "id": "94de2cee",
   "metadata": {},
   "outputs": [
    {
     "data": {
      "text/plain": [
       "test_r2                                    0.932\n",
       "train_r2                                   0.936\n",
       "test_neg_mean_absolute_error           -1225.916\n",
       "train_neg_mean_absolute_error          -1198.031\n",
       "test_neg_mean_squared_error         -3140205.485\n",
       "train_neg_mean_squared_error        -2973024.789\n",
       "test_neg_root_mean_squared_error       -1770.664\n",
       "train_neg_root_mean_squared_error      -1724.220\n",
       "dtype: float64"
      ]
     },
     "execution_count": 28,
     "metadata": {},
     "output_type": "execute_result"
    }
   ],
   "source": [
    "operations = [(\"OneHot_Ordinal_Encoder\", column_trans), (\"GB_model\", GradientBoostingRegressor(random_state=101))]\n",
    "\n",
    "model = Pipeline(steps=operations)\n",
    "scores = cross_validate(model, X_train, y_train, scoring=['r2', \n",
    "            'neg_mean_absolute_error','neg_mean_squared_error','neg_root_mean_squared_error'], cv =10,\n",
    "                       return_train_score=True)\n",
    "\n",
    "pd.DataFrame(scores).mean()[2:]\n",
    "\n",
    "# there is no overfitting"
   ]
  },
  {
   "cell_type": "code",
   "execution_count": 29,
   "id": "7bcd2927",
   "metadata": {},
   "outputs": [
    {
     "data": {
      "text/plain": [
       "-0.10072912135229574"
      ]
     },
     "execution_count": 29,
     "metadata": {},
     "output_type": "execute_result"
    }
   ],
   "source": [
    "scores[\"test_neg_root_mean_squared_error\"].mean()/df.price.mean()  # error ratio"
   ]
  },
  {
   "cell_type": "code",
   "execution_count": 30,
   "id": "6f5a5a99",
   "metadata": {},
   "outputs": [],
   "source": [
    "y_pred = pipe_grad_model.predict(X_test)\n",
    "grad_R2 = r2_score(y_test, y_pred)\n",
    "grad_mae = mean_absolute_error(y_test, y_pred)\n",
    "grad_rmse = np.sqrt(mean_squared_error(y_test, y_pred))"
   ]
  },
  {
   "cell_type": "markdown",
   "id": "a57b38da",
   "metadata": {},
   "source": [
    "### XGBoost"
   ]
  },
  {
   "cell_type": "code",
   "execution_count": 31,
   "id": "21c2332a",
   "metadata": {},
   "outputs": [],
   "source": [
    "import xgboost as xgb\n",
    "from xgboost import XGBRegressor"
   ]
  },
  {
   "cell_type": "code",
   "execution_count": 32,
   "id": "f88a3925",
   "metadata": {},
   "outputs": [
    {
     "data": {
      "text/plain": [
       "Pipeline(steps=[('OneHot_Ordinal_Encoder',\n",
       "                 ColumnTransformer(remainder='passthrough',\n",
       "                                   transformers=[('onehotencoder',\n",
       "                                                  OneHotEncoder(handle_unknown='ignore',\n",
       "                                                                sparse=False),\n",
       "                                                  ['make_model', 'Type',\n",
       "                                                   'Gearing_Type']),\n",
       "                                                 ('ordinalencoder',\n",
       "                                                  OrdinalEncoder(categories=[['Safety '\n",
       "                                                                              'Standard '\n",
       "                                                                              'Package',\n",
       "                                                                              'Safety '\n",
       "                                                                              'Premium '\n",
       "                                                                              'Package',\n",
       "                                                                              'Safety '\n",
       "                                                                              'Premium '\n",
       "                                                                              'Plus '\n",
       "                                                                              'Package']]),\n",
       "                                                  ['Safety...\n",
       "                              feature_types=None, gamma=None, gpu_id=None,\n",
       "                              grow_policy=None, importance_type=None,\n",
       "                              interaction_constraints=None, learning_rate=None,\n",
       "                              max_bin=None, max_cat_threshold=None,\n",
       "                              max_cat_to_onehot=None, max_delta_step=None,\n",
       "                              max_depth=None, max_leaves=None,\n",
       "                              min_child_weight=None, missing=nan,\n",
       "                              monotone_constraints=None, n_estimators=100,\n",
       "                              n_jobs=None, num_parallel_tree=None,\n",
       "                              predictor=None, random_state=101, ...))])"
      ]
     },
     "execution_count": 32,
     "metadata": {},
     "output_type": "execute_result"
    }
   ],
   "source": [
    "operations = [(\"OneHot_Ordinal_Encoder\", column_trans), (\"XGB_model\", XGBRegressor(random_state=101))]\n",
    "\n",
    "pipe_xgb_model = Pipeline(steps=operations)\n",
    "\n",
    "pipe_xgb_model.fit(X_train, y_train)"
   ]
  },
  {
   "cell_type": "code",
   "execution_count": 33,
   "id": "ca0f8034",
   "metadata": {},
   "outputs": [
    {
     "data": {
      "text/html": [
       "<div>\n",
       "<style scoped>\n",
       "    .dataframe tbody tr th:only-of-type {\n",
       "        vertical-align: middle;\n",
       "    }\n",
       "\n",
       "    .dataframe tbody tr th {\n",
       "        vertical-align: top;\n",
       "    }\n",
       "\n",
       "    .dataframe thead th {\n",
       "        text-align: right;\n",
       "    }\n",
       "</style>\n",
       "<table border=\"1\" class=\"dataframe\">\n",
       "  <thead>\n",
       "    <tr style=\"text-align: right;\">\n",
       "      <th></th>\n",
       "      <th>train</th>\n",
       "      <th>test</th>\n",
       "    </tr>\n",
       "  </thead>\n",
       "  <tbody>\n",
       "    <tr>\n",
       "      <th>R2</th>\n",
       "      <td>0.970</td>\n",
       "      <td>0.951</td>\n",
       "    </tr>\n",
       "    <tr>\n",
       "      <th>mae</th>\n",
       "      <td>807.304</td>\n",
       "      <td>988.070</td>\n",
       "    </tr>\n",
       "    <tr>\n",
       "      <th>mse</th>\n",
       "      <td>1391201.828</td>\n",
       "      <td>2127290.503</td>\n",
       "    </tr>\n",
       "    <tr>\n",
       "      <th>rmse</th>\n",
       "      <td>1179.492</td>\n",
       "      <td>1458.523</td>\n",
       "    </tr>\n",
       "  </tbody>\n",
       "</table>\n",
       "</div>"
      ],
      "text/plain": [
       "           train        test\n",
       "R2         0.970       0.951\n",
       "mae      807.304     988.070\n",
       "mse  1391201.828 2127290.503\n",
       "rmse    1179.492    1458.523"
      ]
     },
     "execution_count": 33,
     "metadata": {},
     "output_type": "execute_result"
    }
   ],
   "source": [
    "train_val(pipe_xgb_model, X_train, y_train, X_test, y_test)  # there might be overfitting !"
   ]
  },
  {
   "cell_type": "markdown",
   "id": "fe557021",
   "metadata": {},
   "source": [
    "#### GridSearch and Cross Validate"
   ]
  },
  {
   "cell_type": "code",
   "execution_count": 34,
   "id": "a6f74bf4",
   "metadata": {},
   "outputs": [],
   "source": [
    "param_grid = {\"XGB_model__n_estimators\":[70,80],\n",
    "              \"XGB_model__max_depth\":[4,5], \n",
    "              \"XGB_model__learning_rate\": [0.2,0.25],\n",
    "              \"XGB_model__subsample\": [0.8, 1], \n",
    "              \"XGB_model__colsample_bytree\":[0.8, 1],\n",
    "              \"XGB_model__colsample_bylevel\":[0.8, 1],\n",
    "             \n",
    "              }"
   ]
  },
  {
   "cell_type": "code",
   "execution_count": 36,
   "id": "3cb8bd75",
   "metadata": {},
   "outputs": [],
   "source": [
    "from sklearn.model_selection import GridSearchCV"
   ]
  },
  {
   "cell_type": "code",
   "execution_count": 37,
   "id": "6bc5cacf",
   "metadata": {},
   "outputs": [],
   "source": [
    "operations = [(\"OneHot_Ordinal_Encoder\", column_trans), (\"XGB_model\", XGBRegressor(random_state=101))]\n",
    "\n",
    "model = Pipeline(steps=operations)\n",
    "\n",
    "grid_model = GridSearchCV(estimator=model,\n",
    "                          param_grid=param_grid,\n",
    "                          scoring='neg_root_mean_squared_error',\n",
    "                          cv=10,\n",
    "                          n_jobs = -1,\n",
    "                          return_train_score=True)"
   ]
  },
  {
   "cell_type": "code",
   "execution_count": 38,
   "id": "0d6682ea",
   "metadata": {},
   "outputs": [
    {
     "data": {
      "text/plain": [
       "GridSearchCV(cv=10,\n",
       "             estimator=Pipeline(steps=[('OneHot_Ordinal_Encoder',\n",
       "                                        ColumnTransformer(remainder='passthrough',\n",
       "                                                          transformers=[('onehotencoder',\n",
       "                                                                         OneHotEncoder(handle_unknown='ignore',\n",
       "                                                                                       sparse=False),\n",
       "                                                                         ['make_model',\n",
       "                                                                          'Type',\n",
       "                                                                          'Gearing_Type']),\n",
       "                                                                        ('ordinalencoder',\n",
       "                                                                         OrdinalEncoder(categories=[['Safety '\n",
       "                                                                                                     'Standard '\n",
       "                                                                                                     'Package',\n",
       "                                                                                                     'Safety '\n",
       "                                                                                                     'Premium '\n",
       "                                                                                                     'Package',\n",
       "                                                                                                     'Safety '\n",
       "                                                                                                     'Premiu...\n",
       "                                                     num_parallel_tree=None,\n",
       "                                                     predictor=None,\n",
       "                                                     random_state=101, ...))]),\n",
       "             n_jobs=-1,\n",
       "             param_grid={'XGB_model__colsample_bylevel': [0.8, 1],\n",
       "                         'XGB_model__colsample_bytree': [0.8, 1],\n",
       "                         'XGB_model__learning_rate': [0.2, 0.25],\n",
       "                         'XGB_model__max_depth': [4, 5],\n",
       "                         'XGB_model__n_estimators': [70, 80],\n",
       "                         'XGB_model__subsample': [0.8, 1]},\n",
       "             return_train_score=True, scoring='neg_root_mean_squared_error')"
      ]
     },
     "execution_count": 38,
     "metadata": {},
     "output_type": "execute_result"
    }
   ],
   "source": [
    "grid_model.fit(X_train, y_train)"
   ]
  },
  {
   "cell_type": "code",
   "execution_count": 39,
   "id": "9422d0f9",
   "metadata": {},
   "outputs": [
    {
     "data": {
      "text/plain": [
       "{'XGB_model__colsample_bylevel': 1,\n",
       " 'XGB_model__colsample_bytree': 0.8,\n",
       " 'XGB_model__learning_rate': 0.25,\n",
       " 'XGB_model__max_depth': 5,\n",
       " 'XGB_model__n_estimators': 80,\n",
       " 'XGB_model__subsample': 0.8}"
      ]
     },
     "execution_count": 39,
     "metadata": {},
     "output_type": "execute_result"
    }
   ],
   "source": [
    "grid_model.best_params_"
   ]
  },
  {
   "cell_type": "code",
   "execution_count": 40,
   "id": "f88c2c6e",
   "metadata": {},
   "outputs": [
    {
     "data": {
      "text/plain": [
       "46"
      ]
     },
     "execution_count": 40,
     "metadata": {},
     "output_type": "execute_result"
    }
   ],
   "source": [
    "index = grid_model.best_index_\n",
    "index"
   ]
  },
  {
   "cell_type": "code",
   "execution_count": 41,
   "id": "de990b52",
   "metadata": {},
   "outputs": [
    {
     "data": {
      "text/plain": [
       "mean_test_score    -1560.060\n",
       "mean_train_score   -1353.289\n",
       "Name: 46, dtype: object"
      ]
     },
     "execution_count": 41,
     "metadata": {},
     "output_type": "execute_result"
    }
   ],
   "source": [
    "pd.DataFrame(grid_model.cv_results_).loc[index, [\"mean_test_score\", \"mean_train_score\"]]"
   ]
  },
  {
   "cell_type": "code",
   "execution_count": 42,
   "id": "1b6584a0",
   "metadata": {},
   "outputs": [
    {
     "data": {
      "text/plain": [
       "-0.08874829786524545"
      ]
     },
     "execution_count": 42,
     "metadata": {},
     "output_type": "execute_result"
    }
   ],
   "source": [
    "pd.DataFrame(grid_model.cv_results_).loc[index, \"mean_test_score\"]/df.price.mean()"
   ]
  },
  {
   "cell_type": "code",
   "execution_count": 43,
   "id": "4a2d0901",
   "metadata": {},
   "outputs": [
    {
     "data": {
      "text/html": [
       "<div>\n",
       "<style scoped>\n",
       "    .dataframe tbody tr th:only-of-type {\n",
       "        vertical-align: middle;\n",
       "    }\n",
       "\n",
       "    .dataframe tbody tr th {\n",
       "        vertical-align: top;\n",
       "    }\n",
       "\n",
       "    .dataframe thead th {\n",
       "        text-align: right;\n",
       "    }\n",
       "</style>\n",
       "<table border=\"1\" class=\"dataframe\">\n",
       "  <thead>\n",
       "    <tr style=\"text-align: right;\">\n",
       "      <th></th>\n",
       "      <th>train</th>\n",
       "      <th>test</th>\n",
       "    </tr>\n",
       "  </thead>\n",
       "  <tbody>\n",
       "    <tr>\n",
       "      <th>R2</th>\n",
       "      <td>0.959</td>\n",
       "      <td>0.950</td>\n",
       "    </tr>\n",
       "    <tr>\n",
       "      <th>mae</th>\n",
       "      <td>956.899</td>\n",
       "      <td>1028.052</td>\n",
       "    </tr>\n",
       "    <tr>\n",
       "      <th>mse</th>\n",
       "      <td>1907808.982</td>\n",
       "      <td>2204250.325</td>\n",
       "    </tr>\n",
       "    <tr>\n",
       "      <th>rmse</th>\n",
       "      <td>1381.235</td>\n",
       "      <td>1484.672</td>\n",
       "    </tr>\n",
       "  </tbody>\n",
       "</table>\n",
       "</div>"
      ],
      "text/plain": [
       "           train        test\n",
       "R2         0.959       0.950\n",
       "mae      956.899    1028.052\n",
       "mse  1907808.982 2204250.325\n",
       "rmse    1381.235    1484.672"
      ]
     },
     "execution_count": 43,
     "metadata": {},
     "output_type": "execute_result"
    }
   ],
   "source": [
    "prediction = grid_model.predict(X_test)\n",
    "\n",
    "xgb_rmse = np.sqrt(mean_squared_error(y_test, prediction))\n",
    "\n",
    "train_val(grid_model, X_train, y_train, X_test, y_test)\n",
    "\n",
    "# there is no overfitting and error ratio is better."
   ]
  },
  {
   "cell_type": "code",
   "execution_count": 44,
   "id": "5650c4a8",
   "metadata": {},
   "outputs": [],
   "source": [
    "y_pred = grid_model.predict(X_test)\n",
    "xgb_R2 = r2_score(y_test, y_pred)\n",
    "xgb_mae = mean_absolute_error(y_test, y_pred)\n",
    "xgb_rmse = np.sqrt(mean_squared_error(y_test, y_pred))"
   ]
  },
  {
   "cell_type": "markdown",
   "id": "a11bcbb1",
   "metadata": {},
   "source": [
    "## Compare Scores"
   ]
  },
  {
   "cell_type": "code",
   "execution_count": 45,
   "id": "be50c5d7",
   "metadata": {},
   "outputs": [
    {
     "data": {
      "image/png": "[encoded data removed]",
      "text/plain": [
       "<Figure size 1800x600 with 1 Axes>"
      ]
     },
     "metadata": {},
     "output_type": "display_data"
    }
   ],
   "source": [
    "compare = pd.DataFrame({\"Model\": [\"Lasso\",\"AdaBoost\",\"GradientBoost\", \"XGBoost\"],\n",
    "                        \"rmse\": [lasso_rmse, ada_rmse, grad_rmse, xgb_rmse]})\n",
    "   \n",
    "plt.figure(figsize=(18,6))\n",
    "\n",
    "compare = compare.sort_values(by=\"rmse\", ascending=False)\n",
    "ax=sns.barplot(x=\"rmse\", y=\"Model\", data=compare, palette=\"Blues_d\")\n",
    "ax.bar_label(ax.containers[0],fmt=\"%.3f\")\n",
    "plt.show();"
   ]
  },
  {
   "cell_type": "code",
   "execution_count": null,
   "id": "908dcbee",
   "metadata": {},
   "outputs": [],
   "source": [
    "# XGBoost will be selected with least error from the into models for final model"
   ]
  },
  {
   "cell_type": "markdown",
   "id": "450c08d8",
   "metadata": {},
   "source": [
    "## Final Model"
   ]
  },
  {
   "cell_type": "code",
   "execution_count": 46,
   "id": "869c4d57",
   "metadata": {},
   "outputs": [],
   "source": [
    "X = df.drop(columns = [\"price\"])\n",
    "y = df.price"
   ]
  },
  {
   "cell_type": "code",
   "execution_count": 47,
   "id": "986c4128",
   "metadata": {},
   "outputs": [
    {
     "data": {
      "text/html": [
       "<div>\n",
       "<style scoped>\n",
       "    .dataframe tbody tr th:only-of-type {\n",
       "        vertical-align: middle;\n",
       "    }\n",
       "\n",
       "    .dataframe tbody tr th {\n",
       "        vertical-align: top;\n",
       "    }\n",
       "\n",
       "    .dataframe thead th {\n",
       "        text-align: right;\n",
       "    }\n",
       "</style>\n",
       "<table border=\"1\" class=\"dataframe\">\n",
       "  <thead>\n",
       "    <tr style=\"text-align: right;\">\n",
       "      <th></th>\n",
       "      <th>make_model</th>\n",
       "      <th>hp_kW</th>\n",
       "      <th>km</th>\n",
       "      <th>age</th>\n",
       "      <th>Gearing_Type</th>\n",
       "      <th>Gears</th>\n",
       "      <th>Type</th>\n",
       "      <th>Safety_Security_Package</th>\n",
       "    </tr>\n",
       "  </thead>\n",
       "  <tbody>\n",
       "    <tr>\n",
       "      <th>0</th>\n",
       "      <td>Audi A1</td>\n",
       "      <td>66.000</td>\n",
       "      <td>56013.000</td>\n",
       "      <td>3.000</td>\n",
       "      <td>Automatic</td>\n",
       "      <td>7.000</td>\n",
       "      <td>Used</td>\n",
       "      <td>Safety Premium Package</td>\n",
       "    </tr>\n",
       "    <tr>\n",
       "      <th>1</th>\n",
       "      <td>Audi A1</td>\n",
       "      <td>141.000</td>\n",
       "      <td>80000.000</td>\n",
       "      <td>2.000</td>\n",
       "      <td>Automatic</td>\n",
       "      <td>7.000</td>\n",
       "      <td>Used</td>\n",
       "      <td>Safety Premium Package</td>\n",
       "    </tr>\n",
       "    <tr>\n",
       "      <th>2</th>\n",
       "      <td>Audi A1</td>\n",
       "      <td>85.000</td>\n",
       "      <td>83450.000</td>\n",
       "      <td>3.000</td>\n",
       "      <td>Automatic</td>\n",
       "      <td>7.000</td>\n",
       "      <td>Used</td>\n",
       "      <td>Safety Premium Package</td>\n",
       "    </tr>\n",
       "    <tr>\n",
       "      <th>3</th>\n",
       "      <td>Audi A1</td>\n",
       "      <td>66.000</td>\n",
       "      <td>73000.000</td>\n",
       "      <td>3.000</td>\n",
       "      <td>Automatic</td>\n",
       "      <td>6.000</td>\n",
       "      <td>Used</td>\n",
       "      <td>Safety Premium Package</td>\n",
       "    </tr>\n",
       "    <tr>\n",
       "      <th>4</th>\n",
       "      <td>Audi A1</td>\n",
       "      <td>66.000</td>\n",
       "      <td>16200.000</td>\n",
       "      <td>3.000</td>\n",
       "      <td>Automatic</td>\n",
       "      <td>7.000</td>\n",
       "      <td>Used</td>\n",
       "      <td>Safety Premium Package</td>\n",
       "    </tr>\n",
       "  </tbody>\n",
       "</table>\n",
       "</div>"
      ],
      "text/plain": [
       "  make_model   hp_kW        km   age Gearing_Type  Gears  Type  \\\n",
       "0    Audi A1  66.000 56013.000 3.000    Automatic  7.000  Used   \n",
       "1    Audi A1 141.000 80000.000 2.000    Automatic  7.000  Used   \n",
       "2    Audi A1  85.000 83450.000 3.000    Automatic  7.000  Used   \n",
       "3    Audi A1  66.000 73000.000 3.000    Automatic  6.000  Used   \n",
       "4    Audi A1  66.000 16200.000 3.000    Automatic  7.000  Used   \n",
       "\n",
       "  Safety_Security_Package  \n",
       "0  Safety Premium Package  \n",
       "1  Safety Premium Package  \n",
       "2  Safety Premium Package  \n",
       "3  Safety Premium Package  \n",
       "4  Safety Premium Package  "
      ]
     },
     "execution_count": 47,
     "metadata": {},
     "output_type": "execute_result"
    }
   ],
   "source": [
    "X.head()"
   ]
  },
  {
   "cell_type": "code",
   "execution_count": 48,
   "id": "482fe4c2",
   "metadata": {},
   "outputs": [],
   "source": [
    "operations = [(\"OneHot_Ordinal_Encoder\", column_trans), (\"XGB_model\", XGBRegressor(random_state=101,colsample_bylevel=1,\n",
    "                                                                                  colsample_bytree=0.8,learning_rate=0.25,\n",
    "                                                                                  max_depth=5,n_estimators=80,subsample=0.8))]\n",
    "final_model = Pipeline(steps=operations)"
   ]
  },
  {
   "cell_type": "code",
   "execution_count": 49,
   "id": "6aaa5156",
   "metadata": {},
   "outputs": [
    {
     "data": {
      "text/plain": [
       "Pipeline(steps=[('OneHot_Ordinal_Encoder',\n",
       "                 ColumnTransformer(remainder='passthrough',\n",
       "                                   transformers=[('onehotencoder',\n",
       "                                                  OneHotEncoder(handle_unknown='ignore',\n",
       "                                                                sparse=False),\n",
       "                                                  ['make_model', 'Type',\n",
       "                                                   'Gearing_Type']),\n",
       "                                                 ('ordinalencoder',\n",
       "                                                  OrdinalEncoder(categories=[['Safety '\n",
       "                                                                              'Standard '\n",
       "                                                                              'Package',\n",
       "                                                                              'Safety '\n",
       "                                                                              'Premium '\n",
       "                                                                              'Package',\n",
       "                                                                              'Safety '\n",
       "                                                                              'Premium '\n",
       "                                                                              'Plus '\n",
       "                                                                              'Package']]),\n",
       "                                                  ['Safety...\n",
       "                              feature_types=None, gamma=None, gpu_id=None,\n",
       "                              grow_policy=None, importance_type=None,\n",
       "                              interaction_constraints=None, learning_rate=0.25,\n",
       "                              max_bin=None, max_cat_threshold=None,\n",
       "                              max_cat_to_onehot=None, max_delta_step=None,\n",
       "                              max_depth=5, max_leaves=None,\n",
       "                              min_child_weight=None, missing=nan,\n",
       "                              monotone_constraints=None, n_estimators=80,\n",
       "                              n_jobs=None, num_parallel_tree=None,\n",
       "                              predictor=None, random_state=101, ...))])"
      ]
     },
     "execution_count": 49,
     "metadata": {},
     "output_type": "execute_result"
    }
   ],
   "source": [
    "final_model.fit(X,y)"
   ]
  },
  {
   "cell_type": "markdown",
   "id": "d9a5cc85",
   "metadata": {},
   "source": [
    "## Prediction with Final Model"
   ]
  },
  {
   "cell_type": "code",
   "execution_count": 50,
   "id": "ac39b8d1",
   "metadata": {},
   "outputs": [],
   "source": [
    "pred_dict = {\n",
    "    \"make_model\": 'Audi A3',\n",
    "    \"hp_kW\": 66,\n",
    "    \"km\": 28000,\n",
    "    \"age\": 3,\n",
    "    \"Gearing_Type\": \"Automatic\",\n",
    "    \"Gears\": 7,\n",
    "    \"Type\":\"Used\",\n",
    "    'Safety_Security_Package':'Safety Premium Package'\n",
    "}"
   ]
  },
  {
   "cell_type": "code",
   "execution_count": 51,
   "id": "df16db3f",
   "metadata": {},
   "outputs": [
    {
     "data": {
      "text/html": [
       "<div>\n",
       "<style scoped>\n",
       "    .dataframe tbody tr th:only-of-type {\n",
       "        vertical-align: middle;\n",
       "    }\n",
       "\n",
       "    .dataframe tbody tr th {\n",
       "        vertical-align: top;\n",
       "    }\n",
       "\n",
       "    .dataframe thead th {\n",
       "        text-align: right;\n",
       "    }\n",
       "</style>\n",
       "<table border=\"1\" class=\"dataframe\">\n",
       "  <thead>\n",
       "    <tr style=\"text-align: right;\">\n",
       "      <th></th>\n",
       "      <th>make_model</th>\n",
       "      <th>hp_kW</th>\n",
       "      <th>km</th>\n",
       "      <th>age</th>\n",
       "      <th>Gearing_Type</th>\n",
       "      <th>Gears</th>\n",
       "      <th>Type</th>\n",
       "      <th>Safety_Security_Package</th>\n",
       "    </tr>\n",
       "  </thead>\n",
       "  <tbody>\n",
       "    <tr>\n",
       "      <th>0</th>\n",
       "      <td>Audi A3</td>\n",
       "      <td>66</td>\n",
       "      <td>28000</td>\n",
       "      <td>3</td>\n",
       "      <td>Automatic</td>\n",
       "      <td>7</td>\n",
       "      <td>Used</td>\n",
       "      <td>Safety Premium Package</td>\n",
       "    </tr>\n",
       "  </tbody>\n",
       "</table>\n",
       "</div>"
      ],
      "text/plain": [
       "  make_model  hp_kW     km  age Gearing_Type  Gears  Type  \\\n",
       "0    Audi A3     66  28000    3    Automatic      7  Used   \n",
       "\n",
       "  Safety_Security_Package  \n",
       "0  Safety Premium Package  "
      ]
     },
     "execution_count": 51,
     "metadata": {},
     "output_type": "execute_result"
    }
   ],
   "source": [
    "pred_dict_df = pd.DataFrame([pred_dict])\n",
    "pred_dict_df"
   ]
  },
  {
   "cell_type": "code",
   "execution_count": 52,
   "id": "4be4b2fc",
   "metadata": {},
   "outputs": [
    {
     "data": {
      "text/plain": [
       "array([16124.552], dtype=float32)"
      ]
     },
     "execution_count": 52,
     "metadata": {},
     "output_type": "execute_result"
    }
   ],
   "source": [
    "final_model.predict(pred_dict_df)"
   ]
  },
  {
   "cell_type": "markdown",
   "id": "361d06e4",
   "metadata": {},
   "source": [
    "## Pickle for Model Deployment"
   ]
  },
  {
   "cell_type": "code",
   "execution_count": 53,
   "id": "e1c7d131",
   "metadata": {},
   "outputs": [],
   "source": [
    "import pickle"
   ]
  },
  {
   "cell_type": "code",
   "execution_count": 54,
   "id": "266c9dcd",
   "metadata": {},
   "outputs": [],
   "source": [
    "pickle.dump(final_model, open(\"final_model\", 'wb'))"
   ]
  }
 ],
 "metadata": {
  "kernelspec": {
   "display_name": "env_mld_ass",
   "language": "python",
   "name": "python3"
  },
  "language_info": {
   "codemirror_mode": {
    "name": "ipython",
    "version": 3
   },
   "file_extension": ".py",
   "mimetype": "text/x-python",
   "name": "python",
   "nbconvert_exporter": "python",
   "pygments_lexer": "ipython3",
   "version": "3.10.4 (tags/v3.10.4:9d38120, Mar 23 2022, 23:13:41) [MSC v.1929 64 bit (AMD64)]"
  },
  "vscode": {
   "interpreter": {
    "hash": "03683cdba54146608f224162f88c98b92afecf98c33943552811312e90f2e0ac"
   }
  }
 },
 "nbformat": 4,
 "nbformat_minor": 5
}
